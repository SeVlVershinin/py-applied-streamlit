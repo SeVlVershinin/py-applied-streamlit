{
 "cells": [
  {
   "cell_type": "markdown",
   "source": [
    "## Сборка единого датасета и его подготовка к EDA\n",
    "Поскольку исходно данные для задачи даны нам в виде набора отдельных CSV-файлов, мы должны связать их в один датасет и провести некоторую предварительную обработку. После этого полученные датасет мы загрузим в streamlit-приложений, где выполним EDA и отобразим результаты пользователю. \n",
    "\n",
    "Исходные данные представляют собой набор CSV-файлов. Описание данных в них преведено в задании ([ссылка на ноутбук](https://colab.research.google.com/drive/1t_fUN60Hh_S9wsNPlUggiUiG9JCBcEmk?usp=sharing&pli=1&authuser=2#scrollTo=I7jn6IYXx6M9)) "
   ],
   "metadata": {
    "collapsed": false
   },
   "id": "ff1fc0016daf7499"
  },
  {
   "cell_type": "code",
   "execution_count": 111,
   "outputs": [],
   "source": [
    "import pandas as pd\n",
    "import matplotlib.pyplot as plt\n",
    "import seaborn as sns"
   ],
   "metadata": {
    "collapsed": false,
    "ExecuteTime": {
     "end_time": "2023-12-05T20:03:24.041024500Z",
     "start_time": "2023-12-05T20:03:23.988619500Z"
    }
   },
   "id": "283d50aa8e1fbab6"
  },
  {
   "cell_type": "markdown",
   "source": [
    "### 1. Загрузка исходных CSV-файлов и сбор единого датасета"
   ],
   "metadata": {
    "collapsed": false
   },
   "id": "c2239d78d438b66e"
  },
  {
   "cell_type": "code",
   "execution_count": 112,
   "id": "initial_id",
   "metadata": {
    "collapsed": true,
    "jupyter": {
     "outputs_hidden": true
    },
    "ExecuteTime": {
     "end_time": "2023-12-05T20:03:24.177759400Z",
     "start_time": "2023-12-05T20:03:23.996510900Z"
    }
   },
   "outputs": [
    {
     "name": "stdout",
     "output_type": "stream",
     "text": [
      "Данные в датасете clients. Строк: 16000. Столбцов: 16000. Дубликатов: 0\n",
      "Данные в датасете targets. Строк: 15223. Столбцов: 15223. Дубликатов: 0\n",
      "Данные в датасете job. Строк: 15223. Столбцов: 15223. Дубликатов: 0\n",
      "Данные в датасете salary. Строк: 15523. Столбцов: 15523. Дубликатов: 300\n",
      "Данные в датасете last_credit. Строк: 15223. Столбцов: 15223. Дубликатов: 0\n",
      "Данные в датасете loan. Строк: 21126. Столбцов: 21126. Дубликатов: 0\n",
      "Данные в датасете close_loan. Строк: 21126. Столбцов: 21126. Дубликатов: 0\n",
      "Данные в датасете pens. Строк: 2. Столбцов: 2. Дубликатов: 0\n",
      "Данные в датасете work. Строк: 3. Столбцов: 3. Дубликатов: 0\n"
     ]
    }
   ],
   "source": [
    "\"\"\"Загрузим все имеющиеся csv-файлы и выведем количество строк, столбцов и дубликатов в них\"\"\"\n",
    "clients = pd.read_csv('datasets/D_clients.csv')\n",
    "targets = pd.read_csv('datasets/D_target.csv')\n",
    "job = pd.read_csv('datasets/D_job.csv')\n",
    "salary = pd.read_csv('datasets/D_salary.csv')\n",
    "last_credit = pd.read_csv('datasets/D_last_credit.csv')\n",
    "\n",
    "loan = pd.read_csv('datasets/D_loan.csv')\n",
    "close_loan = pd.read_csv('datasets/D_close_loan.csv')\n",
    "\n",
    "pens = pd.read_csv('datasets/ignore/D_pens.csv')\n",
    "work = pd.read_csv('datasets/ignore/D_work.csv')\n",
    "\n",
    "\n",
    "def name_of(variable):\n",
    "    \"\"\"возвращает получает имя переменной\"\"\"\n",
    "    ns = globals()\n",
    "    return [name for name in ns if ns[name] is variable][0]\n",
    "\n",
    "datasets = (clients, targets, job, salary, last_credit, loan, close_loan, pens, work)\n",
    "for i in range(len(datasets)): \n",
    "    print(f'Данные в датасете {name_of(datasets[i])}. Строк: {datasets[i].shape[0]}. Столбцов: {datasets[i].shape[0]}. Дубликатов: {datasets[i].duplicated().sum()}')"
   ]
  },
  {
   "cell_type": "markdown",
   "source": [
    "Учитывая полученные характеристики датасетов и их описание в задании, слияние в единый датасет будем проводить следующим образом.\n",
    "1) в качестве исходной возьмем таблицу clients\n",
    "2) с помощью left join справа добавим к ней таблицы targets, job, salara (предварительно удалим дубликаты) и last_credit. Left join нужен в связи с тем, что не для всех строк в clients есть строки в этих таблицах.\n",
    "3) предварительно соединим loan и close_loan, получив информацию обо всех кредитах. Учитывая, что количество строк в такой объединенной таблице будет равно 21126 (пока это предположение, но далее мы это и увидим), у некоторых клиентов есть информация о более чем одном кредите. В связи с этим, сделаем группировку полученной таблицы по клиентам, вычислив для каждого количество кредитов и количество закрытых кредитов. И уже такую таблицу будем присоединять справа данным о клиентам.\n",
    "\n",
    "Таблицы pens и work мы проигнорируем, т.к. информация о том, работает или не работает человек, и на пенсии он, или нет, уже есть в таблице clients. Кроме того, данные в pens и work противоречат описанию датасета в задании, а также рациональным соображениям, заключающимся в том, что работающих клиентов банков и клиентов не на пенсии должно быть больше."
   ],
   "metadata": {
    "collapsed": false
   },
   "id": "e27ac93dfa12a3e3"
  },
  {
   "cell_type": "code",
   "execution_count": 113,
   "outputs": [],
   "source": [
    "\"\"\"удаляем дубликаты в salary\"\"\"\n",
    "salary.drop_duplicates(keep='first', inplace=True)"
   ],
   "metadata": {
    "collapsed": false,
    "ExecuteTime": {
     "end_time": "2023-12-05T20:03:24.178713600Z",
     "start_time": "2023-12-05T20:03:24.131310600Z"
    }
   },
   "id": "4324d27afcff13c3"
  },
  {
   "cell_type": "code",
   "execution_count": 114,
   "outputs": [],
   "source": [
    "\"\"\"соединяем clients c target, job, salary, last_credit\"\"\"\n",
    "result = pd.merge(clients, targets, how='left', left_on='ID', right_on='ID_CLIENT').drop(columns=['ID_CLIENT'])\n",
    "result = pd.merge(result, job, how='left', left_on='ID', right_on='ID_CLIENT').drop(columns=['ID_CLIENT'])\n",
    "result = pd.merge(result, salary, how='left', left_on='ID', right_on='ID_CLIENT').drop(columns=['ID_CLIENT'])\n",
    "result = pd.merge(result, last_credit, how='left', left_on='ID', right_on='ID_CLIENT').drop(columns=['ID_CLIENT'])"
   ],
   "metadata": {
    "collapsed": false,
    "ExecuteTime": {
     "end_time": "2023-12-05T20:03:24.178713600Z",
     "start_time": "2023-12-05T20:03:24.139562800Z"
    }
   },
   "id": "4a877ef5fda250e"
  },
  {
   "cell_type": "code",
   "execution_count": 115,
   "id": "f812424baa64a99f",
   "metadata": {
    "collapsed": false,
    "ExecuteTime": {
     "end_time": "2023-12-05T20:03:24.193560900Z",
     "start_time": "2023-12-05T20:03:24.165269600Z"
    }
   },
   "outputs": [],
   "source": [
    "\"\"\"собираем таблицу с агрегированными данными о кредитах по клиентам и ее также присоединяем к clients\"\"\"\n",
    "agg_loan_data = pd.merge(loan, close_loan, how='inner', on='ID_LOAN').groupby('ID_CLIENT', as_index=False).agg(LOAN_COUNT =  ('ID_LOAN', 'count'), CLOSED_LOANS = ('CLOSED_FL', 'sum'))\n",
    "result = pd.merge(result, agg_loan_data, how='left', left_on='ID', right_on='ID_CLIENT').drop(columns=['ID_CLIENT'])"
   ]
  },
  {
   "cell_type": "code",
   "execution_count": 117,
   "outputs": [
    {
     "data": {
      "text/plain": "(16000, 27)"
     },
     "execution_count": 117,
     "metadata": {},
     "output_type": "execute_result"
    }
   ],
   "source": [
    "result.shape"
   ],
   "metadata": {
    "collapsed": false,
    "ExecuteTime": {
     "end_time": "2023-12-05T20:04:56.290874800Z",
     "start_time": "2023-12-05T20:04:56.285361700Z"
    }
   },
   "id": "352b3655f601240d"
  },
  {
   "cell_type": "markdown",
   "source": [
    "В результате слияния таблице получились те же 16000 записей о клиентах, но уже расширенных дополнительными данными. Проведем небольшой анализ и предобработку датасета"
   ],
   "metadata": {
    "collapsed": false
   },
   "id": "bdfb13482052102e"
  },
  {
   "cell_type": "markdown",
   "source": [
    "### Обработка датасета\n",
    "\n",
    "Удалим из датасета столбцы с идентификаторами, т.к. теперь они нам не нужны"
   ],
   "metadata": {
    "collapsed": false
   },
   "id": "a0bd411d2b7f0fdf"
  },
  {
   "cell_type": "code",
   "execution_count": 119,
   "outputs": [],
   "source": [
    "result.drop(columns = ['ID', 'AGREEMENT_RK'], inplace=True)"
   ],
   "metadata": {
    "collapsed": false,
    "ExecuteTime": {
     "end_time": "2023-12-05T20:07:50.967398900Z",
     "start_time": "2023-12-05T20:07:50.958592Z"
    }
   },
   "id": "ae59a0066aa1ad4"
  },
  {
   "cell_type": "markdown",
   "source": [
    "Посмотрим есть ли пропуски таргете."
   ],
   "metadata": {
    "collapsed": false
   },
   "id": "952e201c4cf37533"
  },
  {
   "cell_type": "code",
   "execution_count": 121,
   "outputs": [
    {
     "data": {
      "text/plain": "777"
     },
     "execution_count": 121,
     "metadata": {},
     "output_type": "execute_result"
    }
   ],
   "source": [
    "result['TARGET'].isna().sum()"
   ],
   "metadata": {
    "collapsed": false,
    "ExecuteTime": {
     "end_time": "2023-12-05T20:10:26.021920900Z",
     "start_time": "2023-12-05T20:10:26.013236300Z"
    }
   },
   "id": "3d29252762c01a2d"
  },
  {
   "cell_type": "markdown",
   "source": [
    "Как можно было видеть и ранее, для 777 записей о клиентах нет информации об их участии в маркетинговой кампании и об отклике на предложения банка. С точки зрения обучения моделей для прогнозирования возможного отклика эти данные нам не нужны. Мы могли бы оставить их для целей анализа, заполнив пропуски каким-то значением, говорящим о том, что клиент не участвовал в кампании. Но кроме этой информации для таких клиентов нет и других дополнительных данных. А значит аналих других характеристик тоже будет усложнен. В связи с этим *удалим данные о клиентах* без таргета. \n",
    "  "
   ],
   "metadata": {
    "collapsed": false
   },
   "id": "b94aaed68e6ee376"
  },
  {
   "cell_type": "code",
   "execution_count": 123,
   "outputs": [
    {
     "data": {
      "text/plain": "(15223, 25)"
     },
     "execution_count": 123,
     "metadata": {},
     "output_type": "execute_result"
    }
   ],
   "source": [
    "result = result[~result['TARGET'].isna()]\n",
    "result.shape"
   ],
   "metadata": {
    "collapsed": false,
    "ExecuteTime": {
     "end_time": "2023-12-05T20:14:32.842363100Z",
     "start_time": "2023-12-05T20:14:32.834625500Z"
    }
   },
   "id": "70be8e1f4633a777"
  },
  {
   "cell_type": "markdown",
   "source": [
    "Теперь посмотрим на пропуски в других столбцах"
   ],
   "metadata": {
    "collapsed": false
   },
   "id": "8bc5f0c1e5901924"
  },
  {
   "cell_type": "code",
   "execution_count": 136,
   "outputs": [
    {
     "data": {
      "text/plain": "GEN_INDUSTRY    1367\nGEN_TITLE       1367\nJOB_DIR         1367\nWORK_TIME       1368\ndtype: int64"
     },
     "execution_count": 136,
     "metadata": {},
     "output_type": "execute_result"
    }
   ],
   "source": [
    "nas = result.isna().sum()\n",
    "nas[nas.values > 0]"
   ],
   "metadata": {
    "collapsed": false,
    "ExecuteTime": {
     "end_time": "2023-12-05T20:17:33.435562800Z",
     "start_time": "2023-12-05T20:17:33.427401900Z"
    }
   },
   "id": "a75961d7271213b1"
  },
  {
   "cell_type": "markdown",
   "source": [
    "Видим, что пропуски есть в столбцах, связанных с информацией о работе клиента. Вспомнив, что среди данных о клиентах есть еще и информация о том, работает ли клиент, проверим, не являются ли клиенты с пропусками в указанных столбцах теми, кто не работает? Посмотрим на количество таких нетрудоустроенных клиентов. "
   ],
   "metadata": {
    "collapsed": false
   },
   "id": "f76e5feb8c6cc6f4"
  },
  {
   "cell_type": "code",
   "execution_count": 172,
   "outputs": [
    {
     "data": {
      "text/plain": "(1376, 26)"
     },
     "execution_count": 172,
     "metadata": {},
     "output_type": "execute_result"
    }
   ],
   "source": [
    "unemployed = result[result['SOCSTATUS_WORK_FL'] == 0]\n",
    "unemployed.shape"
   ],
   "metadata": {
    "collapsed": false,
    "ExecuteTime": {
     "end_time": "2023-12-05T20:56:38.825090600Z",
     "start_time": "2023-12-05T20:56:38.800956200Z"
    }
   },
   "id": "20f71ed0afb4e264"
  },
  {
   "cell_type": "markdown",
   "source": [
    "Видно, количество клиентов без работы и и количество клиентов с пропусками в данных о работе почти совпадает, но все же отличается. Рассчитаем флаг, трудоустроен клиент или нет, на основе наличия или отсутствия данных о его работе, после чего выведем всех клиентов, для которых имеющееся и вычисленное значения не совпадают   "
   ],
   "metadata": {
    "collapsed": false
   },
   "id": "eac9d49719b4f3f1"
  },
  {
   "cell_type": "code",
   "execution_count": 176,
   "outputs": [
    {
     "data": {
      "text/plain": "       SOCSTATUS_WORK_FL  SOCSTATUS_WORK_FL_CALCULATED  \\\n563                    0                             1   \n2959                   0                             1   \n4532                   0                             1   \n5195                   1                             0   \n5648                   0                             1   \n6369                   0                             1   \n7304                   0                             1   \n7447                   0                             1   \n11644                  0                             1   \n11691                  0                             1   \n12357                  0                             1   \n\n                                    GEN_INDUSTRY                    GEN_TITLE  \\\n563                                  Образование  Руководитель среднего звена   \n2959   Металлургия/Промышленность/Машиностроение                      Рабочий   \n4532                                 Образование         Работник сферы услуг   \n5195                                         NaN                          NaN   \n5648                          Сельское хозяйство                     Служащий   \n6369                                Другие сферы                     Служащий   \n7304                                Другие сферы                   Специалист   \n7447                               Строительство                   Специалист   \n11644    Ресторанный бизнес/Общественное питание                      Рабочий   \n11691  Металлургия/Промышленность/Машиностроение                   Специалист   \n12357                                Образование                      Рабочий   \n\n                             JOB_DIR  WORK_TIME  \n563    Участие в основ. деятельности      420.0  \n2959   Участие в основ. деятельности       48.0  \n4532     Вспомогательный техперсонал      240.0  \n5195                             NaN        NaN  \n5648   Участие в основ. деятельности      120.0  \n6369   Участие в основ. деятельности        9.0  \n7304   Участие в основ. деятельности       36.0  \n7447   Участие в основ. деятельности        NaN  \n11644  Участие в основ. деятельности       36.0  \n11691  Участие в основ. деятельности      360.0  \n12357               Снабжение и сбыт        7.0  ",
      "text/html": "<div>\n<style scoped>\n    .dataframe tbody tr th:only-of-type {\n        vertical-align: middle;\n    }\n\n    .dataframe tbody tr th {\n        vertical-align: top;\n    }\n\n    .dataframe thead th {\n        text-align: right;\n    }\n</style>\n<table border=\"1\" class=\"dataframe\">\n  <thead>\n    <tr style=\"text-align: right;\">\n      <th></th>\n      <th>SOCSTATUS_WORK_FL</th>\n      <th>SOCSTATUS_WORK_FL_CALCULATED</th>\n      <th>GEN_INDUSTRY</th>\n      <th>GEN_TITLE</th>\n      <th>JOB_DIR</th>\n      <th>WORK_TIME</th>\n    </tr>\n  </thead>\n  <tbody>\n    <tr>\n      <th>563</th>\n      <td>0</td>\n      <td>1</td>\n      <td>Образование</td>\n      <td>Руководитель среднего звена</td>\n      <td>Участие в основ. деятельности</td>\n      <td>420.0</td>\n    </tr>\n    <tr>\n      <th>2959</th>\n      <td>0</td>\n      <td>1</td>\n      <td>Металлургия/Промышленность/Машиностроение</td>\n      <td>Рабочий</td>\n      <td>Участие в основ. деятельности</td>\n      <td>48.0</td>\n    </tr>\n    <tr>\n      <th>4532</th>\n      <td>0</td>\n      <td>1</td>\n      <td>Образование</td>\n      <td>Работник сферы услуг</td>\n      <td>Вспомогательный техперсонал</td>\n      <td>240.0</td>\n    </tr>\n    <tr>\n      <th>5195</th>\n      <td>1</td>\n      <td>0</td>\n      <td>NaN</td>\n      <td>NaN</td>\n      <td>NaN</td>\n      <td>NaN</td>\n    </tr>\n    <tr>\n      <th>5648</th>\n      <td>0</td>\n      <td>1</td>\n      <td>Сельское хозяйство</td>\n      <td>Служащий</td>\n      <td>Участие в основ. деятельности</td>\n      <td>120.0</td>\n    </tr>\n    <tr>\n      <th>6369</th>\n      <td>0</td>\n      <td>1</td>\n      <td>Другие сферы</td>\n      <td>Служащий</td>\n      <td>Участие в основ. деятельности</td>\n      <td>9.0</td>\n    </tr>\n    <tr>\n      <th>7304</th>\n      <td>0</td>\n      <td>1</td>\n      <td>Другие сферы</td>\n      <td>Специалист</td>\n      <td>Участие в основ. деятельности</td>\n      <td>36.0</td>\n    </tr>\n    <tr>\n      <th>7447</th>\n      <td>0</td>\n      <td>1</td>\n      <td>Строительство</td>\n      <td>Специалист</td>\n      <td>Участие в основ. деятельности</td>\n      <td>NaN</td>\n    </tr>\n    <tr>\n      <th>11644</th>\n      <td>0</td>\n      <td>1</td>\n      <td>Ресторанный бизнес/Общественное питание</td>\n      <td>Рабочий</td>\n      <td>Участие в основ. деятельности</td>\n      <td>36.0</td>\n    </tr>\n    <tr>\n      <th>11691</th>\n      <td>0</td>\n      <td>1</td>\n      <td>Металлургия/Промышленность/Машиностроение</td>\n      <td>Специалист</td>\n      <td>Участие в основ. деятельности</td>\n      <td>360.0</td>\n    </tr>\n    <tr>\n      <th>12357</th>\n      <td>0</td>\n      <td>1</td>\n      <td>Образование</td>\n      <td>Рабочий</td>\n      <td>Снабжение и сбыт</td>\n      <td>7.0</td>\n    </tr>\n  </tbody>\n</table>\n</div>"
     },
     "execution_count": 176,
     "metadata": {},
     "output_type": "execute_result"
    }
   ],
   "source": [
    "result['SOCSTATUS_WORK_FL_CALCULATED'] = (\n",
    "    (\n",
    "    ~(result['GEN_INDUSTRY'].isna() & \n",
    "      result['GEN_TITLE'].isna() & \n",
    "      result['JOB_DIR'].isna() & \n",
    "      result['WORK_TIME'].isna())\n",
    "    ).astype(int))\n",
    "inconsistent = result[result['SOCSTATUS_WORK_FL_CALCULATED'] != result['SOCSTATUS_WORK_FL']]\n",
    "inconsistent[['SOCSTATUS_WORK_FL', 'SOCSTATUS_WORK_FL_CALCULATED', 'GEN_INDUSTRY', 'GEN_TITLE', 'JOB_DIR', 'WORK_TIME']]"
   ],
   "metadata": {
    "collapsed": false,
    "ExecuteTime": {
     "end_time": "2023-12-05T21:02:22.181008700Z",
     "start_time": "2023-12-05T21:02:22.166411600Z"
    }
   },
   "id": "65fa11af5bef5a81"
  },
  {
   "cell_type": "markdown",
   "source": [
    "Видим, что для 10 клиентов информация о трудоустройстве имеется, но соответствующий флаг SOCSTATUS_WORK_FL равен 0, хотя должен быть равен 1. \n",
    "В то же время, для одного клиента он равен 1, а данных о его трудоустройстве у банка нет. \n",
    "\n",
    "Будем считать данные о трудоустройстве первичными и заменим значение флага SOCSTATUS_WORK_FL на вычисленное нами значение. После чего снова посмотрим на количество клиентов без работы."
   ],
   "metadata": {
    "collapsed": false
   },
   "id": "2e5ee03a8c16dcf9"
  },
  {
   "cell_type": "code",
   "execution_count": 177,
   "outputs": [
    {
     "data": {
      "text/plain": "(1367, 25)"
     },
     "execution_count": 177,
     "metadata": {},
     "output_type": "execute_result"
    }
   ],
   "source": [
    "result['SOCSTATUS_WORK_FL'] = result['SOCSTATUS_WORK_FL_CALCULATED']\n",
    "result.drop(columns=['SOCSTATUS_WORK_FL_CALCULATED'], inplace=True)\n",
    "\n",
    "unemployed = result[result['SOCSTATUS_WORK_FL'] == 0]\n",
    "unemployed.shape"
   ],
   "metadata": {
    "collapsed": false,
    "ExecuteTime": {
     "end_time": "2023-12-05T21:08:51.387071200Z",
     "start_time": "2023-12-05T21:08:51.376497400Z"
    }
   },
   "id": "573a12e6b1cb92ef"
  },
  {
   "cell_type": "markdown",
   "source": [
    "Теперь видим, что количество нетрудоустроенных клиентов равно количеству клиентов с пропусками во всех столюцах с данными о работе. На всякий случай проверим, что это те же клиенты. Для этого посчитаем количество пропусков в указанных полях для клиентов без работы.\n",
    " "
   ],
   "metadata": {
    "collapsed": false
   },
   "id": "fb33cc725b016095"
  },
  {
   "cell_type": "code",
   "execution_count": 178,
   "outputs": [
    {
     "data": {
      "text/plain": "GEN_INDUSTRY    1367\nGEN_TITLE       1367\nJOB_DIR         1367\nWORK_TIME       1367\ndtype: int64"
     },
     "execution_count": 178,
     "metadata": {},
     "output_type": "execute_result"
    }
   ],
   "source": [
    "nas = unemployed.isna().sum()\n",
    "nas[nas.values > 0]"
   ],
   "metadata": {
    "collapsed": false,
    "ExecuteTime": {
     "end_time": "2023-12-05T21:10:29.487691Z",
     "start_time": "2023-12-05T21:10:29.456037400Z"
    }
   },
   "id": "cd0917e38ed816cc"
  },
  {
   "cell_type": "code",
   "execution_count": 180,
   "outputs": [
    {
     "data": {
      "text/plain": "       AGE  GENDER            EDUCATION      MARITAL_STATUS  CHILD_TOTAL  \\\n0       42       1              Среднее  Не состоял в браке            1   \n1       28       1  Среднее специальное      Состою в браке            1   \n2       64       0  Среднее специальное      Состою в браке            2   \n3       54       1  Среднее специальное      Состою в браке            0   \n4       26       0  Среднее специальное      Состою в браке            1   \n...    ...     ...                  ...                 ...          ...   \n15995   26       1              Среднее  Не состоял в браке            1   \n15996   26       0  Среднее специальное      Состою в браке            0   \n15997   30       1  Среднее специальное  Не состоял в браке            0   \n15998   25       0  Среднее специальное      Состою в браке            0   \n15999   26       1               Высшее  Не состоял в браке            0   \n\n       DEPENDANTS  SOCSTATUS_WORK_FL  SOCSTATUS_PENS_FL  \\\n0               0                  1                  0   \n1               1                  1                  0   \n2               0                  1                  1   \n3               0                  1                  0   \n4               1                  1                  0   \n...           ...                ...                ...   \n15995           1                  1                  0   \n15996           0                  1                  0   \n15997           0                  1                  0   \n15998           0                  1                  0   \n15999           0                  1                  0   \n\n        REG_ADDRESS_PROVINCE  FACT_ADDRESS_PROVINCE  ...  \\\n0         Московская область     Московская область  ...   \n1          Читинская область      Читинская область  ...   \n2          Иркутская область      Иркутская область  ...   \n3      Новосибирская область  Новосибирская область  ...   \n4          Красноярский край      Красноярский край  ...   \n...                      ...                    ...  ...   \n15995                Чувашия                Чувашия  ...   \n15996                Карелия                Карелия  ...   \n15997   Белгородская область   Белгородская область  ...   \n15998     Кабардино-Балкария     Кабардино-Балкария  ...   \n15999              Татарстан              Татарстан  ...   \n\n                        GEN_TITLE                        JOB_DIR  WORK_TIME  \\\n0            Работник сферы услуг  Участие в основ. деятельности        3.0   \n1                      Специалист  Участие в основ. деятельности        5.0   \n2      Руководитель высшего звена  Участие в основ. деятельности      360.0   \n3                      Специалист  Участие в основ. деятельности        3.0   \n4                      Специалист  Участие в основ. деятельности       12.0   \n...                           ...                            ...        ...   \n15995                  Специалист  Участие в основ. деятельности       36.0   \n15996                  Специалист  Участие в основ. деятельности       24.0   \n15997                  Специалист  Участие в основ. деятельности       36.0   \n15998                  Специалист  Участие в основ. деятельности       36.0   \n15999                     Рабочий    Вспомогательный техперсонал       12.0   \n\n                FAMILY_INCOME PERSONAL_INCOME   CREDIT  TERM  FST_PAYMENT  \\\n0      от 20000 до 50000 руб.         25000.0   5588.0   6.0       1000.0   \n1      от 10000 до 20000 руб.         10000.0  19498.0  12.0          0.0   \n2      от 20000 до 50000 руб.         30000.0  15470.0   3.0      15000.0   \n3      от 20000 до 50000 руб.         25000.0  13960.0   6.0       2500.0   \n4      от 10000 до 20000 руб.         15000.0  11890.0   6.0       8000.0   \n...                       ...             ...      ...   ...          ...   \n15995   от 5000 до 10000 руб.          8000.0  11750.0   4.0       1900.0   \n15996  от 20000 до 50000 руб.         12000.0  12350.0   6.0       1380.0   \n15997   от 5000 до 10000 руб.          9000.0   4915.0  10.0       2000.0   \n15998  от 10000 до 20000 руб.         12000.0   5860.0   3.0       2000.0   \n15999  от 10000 до 20000 руб.         10500.0  15700.0   6.0       3000.0   \n\n      LOAN_COUNT  CLOSED_LOANS  \n0            1.0           0.0  \n1            1.0           0.0  \n2            1.0           1.0  \n3            1.0           0.0  \n4            2.0           2.0  \n...          ...           ...  \n15995        2.0           2.0  \n15996        1.0           0.0  \n15997        1.0           0.0  \n15998        1.0           1.0  \n15999        1.0           1.0  \n\n[15223 rows x 25 columns]",
      "text/html": "<div>\n<style scoped>\n    .dataframe tbody tr th:only-of-type {\n        vertical-align: middle;\n    }\n\n    .dataframe tbody tr th {\n        vertical-align: top;\n    }\n\n    .dataframe thead th {\n        text-align: right;\n    }\n</style>\n<table border=\"1\" class=\"dataframe\">\n  <thead>\n    <tr style=\"text-align: right;\">\n      <th></th>\n      <th>AGE</th>\n      <th>GENDER</th>\n      <th>EDUCATION</th>\n      <th>MARITAL_STATUS</th>\n      <th>CHILD_TOTAL</th>\n      <th>DEPENDANTS</th>\n      <th>SOCSTATUS_WORK_FL</th>\n      <th>SOCSTATUS_PENS_FL</th>\n      <th>REG_ADDRESS_PROVINCE</th>\n      <th>FACT_ADDRESS_PROVINCE</th>\n      <th>...</th>\n      <th>GEN_TITLE</th>\n      <th>JOB_DIR</th>\n      <th>WORK_TIME</th>\n      <th>FAMILY_INCOME</th>\n      <th>PERSONAL_INCOME</th>\n      <th>CREDIT</th>\n      <th>TERM</th>\n      <th>FST_PAYMENT</th>\n      <th>LOAN_COUNT</th>\n      <th>CLOSED_LOANS</th>\n    </tr>\n  </thead>\n  <tbody>\n    <tr>\n      <th>0</th>\n      <td>42</td>\n      <td>1</td>\n      <td>Среднее</td>\n      <td>Не состоял в браке</td>\n      <td>1</td>\n      <td>0</td>\n      <td>1</td>\n      <td>0</td>\n      <td>Московская область</td>\n      <td>Московская область</td>\n      <td>...</td>\n      <td>Работник сферы услуг</td>\n      <td>Участие в основ. деятельности</td>\n      <td>3.0</td>\n      <td>от 20000 до 50000 руб.</td>\n      <td>25000.0</td>\n      <td>5588.0</td>\n      <td>6.0</td>\n      <td>1000.0</td>\n      <td>1.0</td>\n      <td>0.0</td>\n    </tr>\n    <tr>\n      <th>1</th>\n      <td>28</td>\n      <td>1</td>\n      <td>Среднее специальное</td>\n      <td>Состою в браке</td>\n      <td>1</td>\n      <td>1</td>\n      <td>1</td>\n      <td>0</td>\n      <td>Читинская область</td>\n      <td>Читинская область</td>\n      <td>...</td>\n      <td>Специалист</td>\n      <td>Участие в основ. деятельности</td>\n      <td>5.0</td>\n      <td>от 10000 до 20000 руб.</td>\n      <td>10000.0</td>\n      <td>19498.0</td>\n      <td>12.0</td>\n      <td>0.0</td>\n      <td>1.0</td>\n      <td>0.0</td>\n    </tr>\n    <tr>\n      <th>2</th>\n      <td>64</td>\n      <td>0</td>\n      <td>Среднее специальное</td>\n      <td>Состою в браке</td>\n      <td>2</td>\n      <td>0</td>\n      <td>1</td>\n      <td>1</td>\n      <td>Иркутская область</td>\n      <td>Иркутская область</td>\n      <td>...</td>\n      <td>Руководитель высшего звена</td>\n      <td>Участие в основ. деятельности</td>\n      <td>360.0</td>\n      <td>от 20000 до 50000 руб.</td>\n      <td>30000.0</td>\n      <td>15470.0</td>\n      <td>3.0</td>\n      <td>15000.0</td>\n      <td>1.0</td>\n      <td>1.0</td>\n    </tr>\n    <tr>\n      <th>3</th>\n      <td>54</td>\n      <td>1</td>\n      <td>Среднее специальное</td>\n      <td>Состою в браке</td>\n      <td>0</td>\n      <td>0</td>\n      <td>1</td>\n      <td>0</td>\n      <td>Новосибирская область</td>\n      <td>Новосибирская область</td>\n      <td>...</td>\n      <td>Специалист</td>\n      <td>Участие в основ. деятельности</td>\n      <td>3.0</td>\n      <td>от 20000 до 50000 руб.</td>\n      <td>25000.0</td>\n      <td>13960.0</td>\n      <td>6.0</td>\n      <td>2500.0</td>\n      <td>1.0</td>\n      <td>0.0</td>\n    </tr>\n    <tr>\n      <th>4</th>\n      <td>26</td>\n      <td>0</td>\n      <td>Среднее специальное</td>\n      <td>Состою в браке</td>\n      <td>1</td>\n      <td>1</td>\n      <td>1</td>\n      <td>0</td>\n      <td>Красноярский край</td>\n      <td>Красноярский край</td>\n      <td>...</td>\n      <td>Специалист</td>\n      <td>Участие в основ. деятельности</td>\n      <td>12.0</td>\n      <td>от 10000 до 20000 руб.</td>\n      <td>15000.0</td>\n      <td>11890.0</td>\n      <td>6.0</td>\n      <td>8000.0</td>\n      <td>2.0</td>\n      <td>2.0</td>\n    </tr>\n    <tr>\n      <th>...</th>\n      <td>...</td>\n      <td>...</td>\n      <td>...</td>\n      <td>...</td>\n      <td>...</td>\n      <td>...</td>\n      <td>...</td>\n      <td>...</td>\n      <td>...</td>\n      <td>...</td>\n      <td>...</td>\n      <td>...</td>\n      <td>...</td>\n      <td>...</td>\n      <td>...</td>\n      <td>...</td>\n      <td>...</td>\n      <td>...</td>\n      <td>...</td>\n      <td>...</td>\n      <td>...</td>\n    </tr>\n    <tr>\n      <th>15995</th>\n      <td>26</td>\n      <td>1</td>\n      <td>Среднее</td>\n      <td>Не состоял в браке</td>\n      <td>1</td>\n      <td>1</td>\n      <td>1</td>\n      <td>0</td>\n      <td>Чувашия</td>\n      <td>Чувашия</td>\n      <td>...</td>\n      <td>Специалист</td>\n      <td>Участие в основ. деятельности</td>\n      <td>36.0</td>\n      <td>от 5000 до 10000 руб.</td>\n      <td>8000.0</td>\n      <td>11750.0</td>\n      <td>4.0</td>\n      <td>1900.0</td>\n      <td>2.0</td>\n      <td>2.0</td>\n    </tr>\n    <tr>\n      <th>15996</th>\n      <td>26</td>\n      <td>0</td>\n      <td>Среднее специальное</td>\n      <td>Состою в браке</td>\n      <td>0</td>\n      <td>0</td>\n      <td>1</td>\n      <td>0</td>\n      <td>Карелия</td>\n      <td>Карелия</td>\n      <td>...</td>\n      <td>Специалист</td>\n      <td>Участие в основ. деятельности</td>\n      <td>24.0</td>\n      <td>от 20000 до 50000 руб.</td>\n      <td>12000.0</td>\n      <td>12350.0</td>\n      <td>6.0</td>\n      <td>1380.0</td>\n      <td>1.0</td>\n      <td>0.0</td>\n    </tr>\n    <tr>\n      <th>15997</th>\n      <td>30</td>\n      <td>1</td>\n      <td>Среднее специальное</td>\n      <td>Не состоял в браке</td>\n      <td>0</td>\n      <td>0</td>\n      <td>1</td>\n      <td>0</td>\n      <td>Белгородская область</td>\n      <td>Белгородская область</td>\n      <td>...</td>\n      <td>Специалист</td>\n      <td>Участие в основ. деятельности</td>\n      <td>36.0</td>\n      <td>от 5000 до 10000 руб.</td>\n      <td>9000.0</td>\n      <td>4915.0</td>\n      <td>10.0</td>\n      <td>2000.0</td>\n      <td>1.0</td>\n      <td>0.0</td>\n    </tr>\n    <tr>\n      <th>15998</th>\n      <td>25</td>\n      <td>0</td>\n      <td>Среднее специальное</td>\n      <td>Состою в браке</td>\n      <td>0</td>\n      <td>0</td>\n      <td>1</td>\n      <td>0</td>\n      <td>Кабардино-Балкария</td>\n      <td>Кабардино-Балкария</td>\n      <td>...</td>\n      <td>Специалист</td>\n      <td>Участие в основ. деятельности</td>\n      <td>36.0</td>\n      <td>от 10000 до 20000 руб.</td>\n      <td>12000.0</td>\n      <td>5860.0</td>\n      <td>3.0</td>\n      <td>2000.0</td>\n      <td>1.0</td>\n      <td>1.0</td>\n    </tr>\n    <tr>\n      <th>15999</th>\n      <td>26</td>\n      <td>1</td>\n      <td>Высшее</td>\n      <td>Не состоял в браке</td>\n      <td>0</td>\n      <td>0</td>\n      <td>1</td>\n      <td>0</td>\n      <td>Татарстан</td>\n      <td>Татарстан</td>\n      <td>...</td>\n      <td>Рабочий</td>\n      <td>Вспомогательный техперсонал</td>\n      <td>12.0</td>\n      <td>от 10000 до 20000 руб.</td>\n      <td>10500.0</td>\n      <td>15700.0</td>\n      <td>6.0</td>\n      <td>3000.0</td>\n      <td>1.0</td>\n      <td>1.0</td>\n    </tr>\n  </tbody>\n</table>\n<p>15223 rows × 25 columns</p>\n</div>"
     },
     "execution_count": 180,
     "metadata": {},
     "output_type": "execute_result"
    }
   ],
   "source": [
    "result"
   ],
   "metadata": {
    "collapsed": false,
    "ExecuteTime": {
     "end_time": "2023-12-05T21:11:34.099150500Z",
     "start_time": "2023-12-05T21:11:34.079129Z"
    }
   },
   "id": "1bd6382d5ebb41f6"
  },
  {
   "cell_type": "markdown",
   "source": [
    "Видим, что все нетудоустроенные имеют соответствующие пропуски. Заполним для всех таких клиентов пропуски в полях GEN_INDUSTRY, GEN_TITLE, JOB_DIR значениями \"Не трудоустроен\", а в поле WORK_TIME - нулем, т.к. время работы в месяцах в данном случае нулевое."
   ],
   "metadata": {
    "collapsed": false
   },
   "id": "dbb78f3b56696f90"
  }
 ],
 "metadata": {
  "kernelspec": {
   "display_name": "Python 3 (ipykernel)",
   "language": "python",
   "name": "python3"
  },
  "language_info": {
   "codemirror_mode": {
    "name": "ipython",
    "version": 3
   },
   "file_extension": ".py",
   "mimetype": "text/x-python",
   "name": "python",
   "nbconvert_exporter": "python",
   "pygments_lexer": "ipython3",
   "version": "3.11.5"
  }
 },
 "nbformat": 4,
 "nbformat_minor": 5
}
